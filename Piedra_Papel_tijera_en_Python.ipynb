{
  "nbformat": 4,
  "nbformat_minor": 0,
  "metadata": {
    "colab": {
      "provenance": [],
      "authorship_tag": "ABX9TyOfOt7++HtFsS3X5EIjtmyp",
      "include_colab_link": true
    },
    "kernelspec": {
      "name": "python3",
      "display_name": "Python 3"
    },
    "language_info": {
      "name": "python"
    }
  },
  "cells": [
    {
      "cell_type": "markdown",
      "metadata": {
        "id": "view-in-github",
        "colab_type": "text"
      },
      "source": [
        "<a href=\"https://colab.research.google.com/github/daniilebro/Python/blob/main/Piedra_Papel_tijera_en_Python.ipynb\" target=\"_parent\"><img src=\"https://colab.research.google.com/assets/colab-badge.svg\" alt=\"Open In Colab\"/></a>"
      ]
    },
    {
      "cell_type": "code",
      "execution_count": 53,
      "metadata": {
        "colab": {
          "base_uri": "https://localhost:8080/"
        },
        "id": "Sj_qhiNUt2fa",
        "outputId": "a019c242-722b-4a41-9b2b-44fb93c64efe"
      },
      "outputs": [
        {
          "output_type": "stream",
          "name": "stdout",
          "text": [
            "********************\n",
            "RONDA 1\n",
            "********************\n",
            "Veces que ganó la compuradora:   0\n",
            "Tú has ganado:   0\n",
            "Elige piedra, papel o tijera:  12\n",
            "Opcción no valida\n",
            "********************\n",
            "RONDA 2\n",
            "********************\n",
            "Veces que ganó la compuradora:   0\n",
            "Tú has ganado:   0\n",
            "Elige piedra, papel o tijera:  piedra\n",
            "***PC tijera\n",
            "***Yo 😋 piedra\n",
            "PIEDRA gana a TIJERA\n",
            "¡Le ganaste 🥳!\n",
            "********************\n",
            "RONDA 3\n",
            "********************\n",
            "Veces que ganó la compuradora:   0\n",
            "Tú has ganado:   1\n",
            "Elige piedra, papel o tijera:  tijera\n",
            "***PC piedra\n",
            "***Yo 😋 tijera\n",
            "PIEDRA gana a PAPEL\n",
            "Ganó la computadora 🙄\n",
            "-----El ganador eres TÚ 🥂-----\n"
          ]
        }
      ],
      "source": [
        "import random\n",
        "\n",
        "opcciones=(\"piedra\",\"papel\",\"tijera\")\n",
        "\n",
        "ganaPC= 0\n",
        "ganaUsurio= 0\n",
        "\n",
        "numRondas = 1\n",
        "\n",
        "while True:\n",
        "    print(\"*\"*20)\n",
        "    print(\"RONDA\", numRondas)\n",
        "    print(\"*\"*20)\n",
        "\n",
        "    print(\"Veces que ganó la compuradora:  \",ganaPC)\n",
        "    print(\"Tú has ganado:  \",ganaUsurio)\n",
        "\n",
        "    turnoUsuario= input(\"Elige piedra, papel o tijera:  \")\n",
        "    turnoUsuario= turnoUsuario.lower() # Pasa todo texto a minusc\n",
        "\n",
        "    numRondas += 1\n",
        "\n",
        "    if not turnoUsuario in opcciones:\n",
        "      print(\"Opción no valida\")\n",
        "      continue\n",
        "\n",
        "    turnoPC= random.choice(opcciones) #Elegir algo baso de una lista o tupla\n",
        "\n",
        "    print(\"***PC\",turnoPC)\n",
        "    print(\"***Yo 😋\",turnoUsuario)\n",
        "\n",
        "    if turnoUsuario==turnoPC:\n",
        "      print(\"¡Empate 😋!\")\n",
        "    elif turnoUsuario == \"piedra\":\n",
        "      if turnoPC==\"tijera\":\n",
        "          print(\"PIEDRA gana a TIJERA\")\n",
        "          print(\"¡Le ganaste 🥳!\")\n",
        "          ganaUsurio += 1\n",
        "      else:\n",
        "          print(\"PAPEL gana a PIEDRA\")\n",
        "          print(\"Ganó la computadora 🙄\")\n",
        "          ganaUsurio += 1\n",
        "    elif turnoUsuario == \"papel\":\n",
        "      if turnoPC==\"piedra\":\n",
        "          print(\"PAPEL gana a PIEDRA\")\n",
        "          print(\"¡Le ganaste 🥳!\")\n",
        "          ganaUsurio += 1\n",
        "      else:\n",
        "          print(\"TIJERA gana a PAPEL\")\n",
        "          print(\"Ganó la computadora 🙄\")\n",
        "          ganaUsurio += 1\n",
        "    elif turnoUsuario == \"tijera\":\n",
        "      if turnoPC==\"papel\":\n",
        "          print(\"TIJERA gana a PAPEL\")\n",
        "          print(\"¡Le ganaste 🥳!\")\n",
        "          ganaUsurio += 1\n",
        "      else:\n",
        "          print(\"PIEDRA gana a PAPEL\")\n",
        "          print(\"Ganó la computadora 🙄\")\n",
        "          ganaUsurio += 1\n",
        "\n",
        "    if ganaPC == 2:\n",
        "      print(\"----- El ganador es la computadora 🤷‍♀️🤷‍♂️-----\")\n",
        "      break\n",
        "\n",
        "    if ganaUsurio == 2:\n",
        "      print(\"-----El ganador eres TÚ 🥂-----\")\n",
        "      break  \n"
      ]
    }
  ]
}